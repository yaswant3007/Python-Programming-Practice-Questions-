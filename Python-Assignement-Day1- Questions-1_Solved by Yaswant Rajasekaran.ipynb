{
 "cells": [
  {
   "cell_type": "raw",
   "metadata": {
    "colab_type": "text",
    "id": "D-KgkVX3IZ-S"
   },
   "source": [
    "1.  Python Program to exchange the values of two numbers without using a temporary variable. "
   ]
  },
  {
   "cell_type": "code",
   "execution_count": 29,
   "metadata": {
    "colab": {},
    "colab_type": "code",
    "id": "yldf_YhdIZ-T"
   },
   "outputs": [
    {
     "name": "stdout",
     "output_type": "stream",
     "text": [
      "First Number: 9.0\n",
      "Second Number: 10.0\n"
     ]
    }
   ],
   "source": [
    "a=float(input(\"Enter the first number:\")) # 10\n",
    "b=float(input(\"Enter the second number:\")) # 9\n",
    "a,b=b,a\n",
    "print(\"First Number:\",a)\n",
    "print(\"Second Number:\",b)"
   ]
  },
  {
   "cell_type": "raw",
   "metadata": {
    "colab_type": "text",
    "id": "MrK3aZMGIZ-Y"
   },
   "source": [
    "2. Write a python code to replace all  \"a\"  with 2 for the given variable\n",
    "s = 'abc12321cba'"
   ]
  },
  {
   "cell_type": "code",
   "execution_count": 39,
   "metadata": {
    "colab": {},
    "colab_type": "code",
    "id": "J7rr7O5XIZ-Z"
   },
   "outputs": [
    {
     "name": "stdout",
     "output_type": "stream",
     "text": [
      "'2bc12321cb2'"
     ]
    }
   ],
   "source": [
    "s = 'abc12321cba'\n",
    "ls=[]\n",
    "cnt=0\n",
    "k=0\n",
    "n=0\n",
    "for i in s:\n",
    "    ls.append(i)\n",
    "for j in ls:\n",
    "    if j==\"a\":\n",
    "        indexa=ls.index(\"a\")\n",
    "        ls[indexa]=2\n",
    "for l in ls:\n",
    "    n+=1\n",
    "    if n==1:\n",
    "        print(\"'\",end=\"\")\n",
    "    print(str(l),end=\"\")\n",
    "    if n==len(ls):\n",
    "        print(\"'\",end=\"\")"
   ]
  },
  {
   "cell_type": "raw",
   "metadata": {
    "colab_type": "text",
    "id": "Zo8gMGlbIZ-g"
   },
   "source": [
    "3. Python code for to  remove first character in string?"
   ]
  },
  {
   "cell_type": "code",
   "execution_count": 6,
   "metadata": {
    "colab": {},
    "colab_type": "code",
    "id": "XTIKmVpiIZ-h"
   },
   "outputs": [
    {
     "name": "stdout",
     "output_type": "stream",
     "text": [
      "ion"
     ]
    }
   ],
   "source": [
    "\n",
    "stringrem=input(\"Please Enter the String in which the first character should be removed:\") # input:Lion\n",
    "stringrem1=\",\".join(stringrem)\n",
    "lsstringrem=stringrem1.split(\",\")\n",
    "remchar=lsstringrem[0]\n",
    "lsstringrem.remove(remchar)\n",
    "for i in lsstringrem:\n",
    "    print(str(i),end=\"\")"
   ]
  },
  {
   "cell_type": "raw",
   "metadata": {
    "colab_type": "text",
    "id": "XBhfFfEIIZ-n"
   },
   "source": [
    "4. Concatenate two strings  \n",
    "First Input : \"hello\" \n",
    "Second Input : \"guvi\"\n",
    "desired output :   \"hello guvi\""
   ]
  },
  {
   "cell_type": "code",
   "execution_count": 41,
   "metadata": {
    "colab": {},
    "colab_type": "code",
    "id": "qVhNDe9mIZ-p"
   },
   "outputs": [
    {
     "name": "stdout",
     "output_type": "stream",
     "text": [
      "\"hello guvi\"\n"
     ]
    }
   ],
   "source": [
    "firstint=\"hello\"\n",
    "secondint=\"guvi\"\n",
    "print('\"',firstint+\" \"+secondint,'\"',sep=\"\")"
   ]
  },
  {
   "cell_type": "raw",
   "metadata": {
    "colab_type": "text",
    "id": "W1CyejMTIZ-t"
   },
   "source": [
    "5. Repeat the string \"hello guvi\" 3 times \n",
    "desired output :  'hello guvi hello guvi hello guvi '"
   ]
  },
  {
   "cell_type": "code",
   "execution_count": 16,
   "metadata": {
    "colab": {},
    "colab_type": "code",
    "id": "6B83XYHVIZ-u"
   },
   "outputs": [
    {
     "name": "stdout",
     "output_type": "stream",
     "text": [
      "'hello guvi hello guvi hello guvi '"
     ]
    }
   ],
   "source": [
    "repstr=\"hello guvi\"\n",
    "i=1\n",
    "while i<=3:\n",
    "    if i==1:\n",
    "        print(\"'\",end=\"\")\n",
    "    print(repstr,end=\" \")\n",
    "    if i==3:\n",
    "        print(\"'\",end=\"\")\n",
    "    i+=1"
   ]
  },
  {
   "cell_type": "raw",
   "metadata": {
    "colab_type": "text",
    "id": "4oblWnrSIZ-y"
   },
   "source": [
    "6. Create 3 variables a1,a2,a3. Assign the same value \" 4 \" to all the variables in a single line of code."
   ]
  },
  {
   "cell_type": "code",
   "execution_count": 23,
   "metadata": {
    "colab": {},
    "colab_type": "code",
    "id": "O7nH3nd-IZ-y"
   },
   "outputs": [],
   "source": [
    "a1,a2,a3=4,4,4\n"
   ]
  },
  {
   "cell_type": "raw",
   "metadata": {
    "colab_type": "text",
    "id": "fs_t4D-oIZ-2"
   },
   "source": [
    "7. Calculate BMI of a person using the height and weight.\n",
    "BMI = weight / (height **2)\n"
   ]
  },
  {
   "cell_type": "code",
   "execution_count": 25,
   "metadata": {
    "colab": {},
    "colab_type": "code",
    "id": "N_VZSoYjIZ-3"
   },
   "outputs": [
    {
     "name": "stdout",
     "output_type": "stream",
     "text": [
      "Your BMI is: 30.91695501730104 kg/m²\n"
     ]
    }
   ],
   "source": [
    "weight = float(input(\"Please enter your weight in kilograms : \")) # weight = 89.350 Kg \n",
    "height = float(input(\"Please enter your height in meters : \")) # height = 1.7 m\n",
    "BMI = weight/(height**2)\n",
    "print(\"Your BMI is: \",BMI,\" kg/m²\",sep=\"\")"
   ]
  },
  {
   "cell_type": "markdown",
   "metadata": {},
   "source": []
  },
  {
   "cell_type": "raw",
   "metadata": {
    "colab_type": "text",
    "id": "JgXK2m28IZ-7"
   },
   "source": [
    "8.Write a python program to calculate the area of circle."
   ]
  },
  {
   "cell_type": "code",
   "execution_count": 32,
   "metadata": {
    "colab": {},
    "colab_type": "code",
    "id": "m73v7qoCIZ-8"
   },
   "outputs": [
    {
     "name": "stdout",
     "output_type": "stream",
     "text": [
      "The area of the circle is : 78.5398 cm²\n"
     ]
    }
   ],
   "source": [
    "Radius_Of_Circle = float(input(\"Enter the radius of the circle in centimeters:\")) # 5 cm\n",
    "π = 3.141592\n",
    "Area_Of_The_circle = π*(Radius_Of_Circle**2)\n",
    "print(\"The area of the circle is : \",Area_Of_The_circle,\" cm²\",sep=\"\")"
   ]
  },
  {
   "cell_type": "raw",
   "metadata": {
    "colab_type": "text",
    "id": "BHXFt9VwIZ_A"
   },
   "source": [
    "9.Calculate the simple interest\n",
    "simple_interest = p * n * r /100"
   ]
  },
  {
   "cell_type": "code",
   "execution_count": 33,
   "metadata": {
    "colab": {},
    "colab_type": "code",
    "id": "7wHLjXC4IZ_B"
   },
   "outputs": [
    {
     "name": "stdout",
     "output_type": "stream",
     "text": [
      "This is the simple interest : 12000.0 Rupees\n"
     ]
    }
   ],
   "source": [
    "p=float(input(\"Enter the value of the principal amount in rupees : \")) # Rs. 60,000\n",
    "n=float(input(\"Enter the time in years : \")) # 2 years\n",
    "r=float(input(\"Enter the rate of interest : \")) # 10 % rate of interest\n",
    "simple_interest=p*n*r/100\n",
    "print(\"This is the simple interest : \",simple_interest,\" Rupees\", sep=\"\")"
   ]
  },
  {
   "cell_type": "raw",
   "metadata": {
    "colab_type": "text",
    "id": "afLADSCGIZ_G"
   },
   "source": [
    "10.Python code to calculate the square root of the given number(run time variable)"
   ]
  },
  {
   "cell_type": "code",
   "execution_count": 37,
   "metadata": {
    "colab": {},
    "colab_type": "code",
    "id": "XBTku4euIZ_H"
   },
   "outputs": [
    {
     "name": "stdout",
     "output_type": "stream",
     "text": [
      "3.0\n"
     ]
    }
   ],
   "source": [
    "import math\n",
    "n=float(input(\"Enter the number whose square root has to be found : \")) # 9\n",
    "square_root= math.sqrt(n)\n",
    "print(square_root)"
   ]
  }
 ],
 "metadata": {
  "colab": {
   "collapsed_sections": [],
   "name": "Python-Inclass-Day1- (Questions).ipynb",
   "provenance": []
  },
  "kernelspec": {
   "display_name": "Python 3 (ipykernel)",
   "language": "python",
   "name": "python3"
  },
  "language_info": {
   "codemirror_mode": {
    "name": "ipython",
    "version": 3
   },
   "file_extension": ".py",
   "mimetype": "text/x-python",
   "name": "python",
   "nbconvert_exporter": "python",
   "pygments_lexer": "ipython3",
   "version": "3.11.6"
  }
 },
 "nbformat": 4,
 "nbformat_minor": 1
}
